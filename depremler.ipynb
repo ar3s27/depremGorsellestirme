{
 "cells": [
  {
   "cell_type": "code",
   "execution_count": 26,
   "id": "72d79e64",
   "metadata": {},
   "outputs": [
    {
     "name": "stdout",
     "output_type": "stream",
     "text": [
      "Requirement already satisfied: keplergl in c:\\users\\td\\anaconda3\\lib\\site-packages (0.3.2)\n",
      "Requirement already satisfied: ipywidgets<8,>=7.0.0 in c:\\users\\td\\anaconda3\\lib\\site-packages (from keplergl) (7.8.0)\n",
      "Requirement already satisfied: traittypes>=0.2.1 in c:\\users\\td\\appdata\\roaming\\python\\python311\\site-packages (from keplergl) (0.2.1)\n",
      "Requirement already satisfied: geopandas>=0.5.0 in c:\\users\\td\\anaconda3\\lib\\site-packages (from keplergl) (0.13.2)\n",
      "Requirement already satisfied: pandas>=0.23.0 in c:\\users\\td\\appdata\\roaming\\python\\python311\\site-packages (from keplergl) (2.0.3)\n",
      "Requirement already satisfied: Shapely>=1.6.4.post2 in c:\\users\\td\\appdata\\roaming\\python\\python311\\site-packages (from keplergl) (2.0.1)\n",
      "Requirement already satisfied: fiona>=1.8.19 in c:\\users\\td\\anaconda3\\lib\\site-packages (from geopandas>=0.5.0->keplergl) (1.9.4.post1)\n",
      "Requirement already satisfied: packaging in c:\\users\\td\\appdata\\roaming\\python\\python311\\site-packages (from geopandas>=0.5.0->keplergl) (23.0)\n",
      "Requirement already satisfied: pyproj>=3.0.1 in c:\\users\\td\\anaconda3\\lib\\site-packages (from geopandas>=0.5.0->keplergl) (3.6.0)\n",
      "Requirement already satisfied: comm>=0.1.3 in c:\\users\\td\\appdata\\roaming\\python\\python311\\site-packages (from ipywidgets<8,>=7.0.0->keplergl) (0.1.4)\n",
      "Requirement already satisfied: ipython-genutils~=0.2.0 in c:\\users\\td\\appdata\\roaming\\python\\python311\\site-packages (from ipywidgets<8,>=7.0.0->keplergl) (0.2.0)\n",
      "Requirement already satisfied: traitlets>=4.3.1 in c:\\users\\td\\appdata\\roaming\\python\\python311\\site-packages (from ipywidgets<8,>=7.0.0->keplergl) (5.9.0)\n",
      "Requirement already satisfied: widgetsnbextension~=3.6.5 in c:\\users\\td\\anaconda3\\lib\\site-packages (from ipywidgets<8,>=7.0.0->keplergl) (3.6.5)\n",
      "Requirement already satisfied: ipython>=4.0.0 in c:\\users\\td\\appdata\\roaming\\python\\python311\\site-packages (from ipywidgets<8,>=7.0.0->keplergl) (8.14.0)\n",
      "Requirement already satisfied: jupyterlab-widgets<3,>=1.0.0 in c:\\users\\td\\anaconda3\\lib\\site-packages (from ipywidgets<8,>=7.0.0->keplergl) (1.1.5)\n",
      "Requirement already satisfied: python-dateutil>=2.8.2 in c:\\users\\td\\appdata\\roaming\\python\\python311\\site-packages (from pandas>=0.23.0->keplergl) (2.8.2)\n",
      "Requirement already satisfied: pytz>=2020.1 in c:\\users\\td\\appdata\\roaming\\python\\python311\\site-packages (from pandas>=0.23.0->keplergl) (2023.3)\n",
      "Requirement already satisfied: tzdata>=2022.1 in c:\\users\\td\\appdata\\roaming\\python\\python311\\site-packages (from pandas>=0.23.0->keplergl) (2023.3)\n",
      "Requirement already satisfied: numpy>=1.21.0 in c:\\users\\td\\appdata\\roaming\\python\\python311\\site-packages (from pandas>=0.23.0->keplergl) (1.23.5)\n",
      "Requirement already satisfied: attrs>=19.2.0 in c:\\users\\td\\anaconda3\\lib\\site-packages (from fiona>=1.8.19->geopandas>=0.5.0->keplergl) (22.1.0)\n",
      "Requirement already satisfied: certifi in c:\\users\\td\\appdata\\roaming\\python\\python311\\site-packages (from fiona>=1.8.19->geopandas>=0.5.0->keplergl) (2022.12.7)\n",
      "Requirement already satisfied: click~=8.0 in c:\\users\\td\\appdata\\roaming\\python\\python311\\site-packages (from fiona>=1.8.19->geopandas>=0.5.0->keplergl) (8.1.3)\n",
      "Requirement already satisfied: click-plugins>=1.0 in c:\\users\\td\\anaconda3\\lib\\site-packages (from fiona>=1.8.19->geopandas>=0.5.0->keplergl) (1.1.1)\n",
      "Requirement already satisfied: cligj>=0.5 in c:\\users\\td\\anaconda3\\lib\\site-packages (from fiona>=1.8.19->geopandas>=0.5.0->keplergl) (0.7.2)\n",
      "Requirement already satisfied: six in c:\\users\\td\\appdata\\roaming\\python\\python311\\site-packages (from fiona>=1.8.19->geopandas>=0.5.0->keplergl) (1.16.0)\n",
      "Requirement already satisfied: backcall in c:\\users\\td\\appdata\\roaming\\python\\python311\\site-packages (from ipython>=4.0.0->ipywidgets<8,>=7.0.0->keplergl) (0.2.0)\n",
      "Requirement already satisfied: decorator in c:\\users\\td\\appdata\\roaming\\python\\python311\\site-packages (from ipython>=4.0.0->ipywidgets<8,>=7.0.0->keplergl) (4.0.11)\n",
      "Requirement already satisfied: jedi>=0.16 in c:\\users\\td\\appdata\\roaming\\python\\python311\\site-packages (from ipython>=4.0.0->ipywidgets<8,>=7.0.0->keplergl) (0.19.0)\n",
      "Requirement already satisfied: matplotlib-inline in c:\\users\\td\\appdata\\roaming\\python\\python311\\site-packages (from ipython>=4.0.0->ipywidgets<8,>=7.0.0->keplergl) (0.1.6)\n",
      "Requirement already satisfied: pickleshare in c:\\users\\td\\appdata\\roaming\\python\\python311\\site-packages (from ipython>=4.0.0->ipywidgets<8,>=7.0.0->keplergl) (0.7.5)\n",
      "Requirement already satisfied: prompt-toolkit!=3.0.37,<3.1.0,>=3.0.30 in c:\\users\\td\\appdata\\roaming\\python\\python311\\site-packages (from ipython>=4.0.0->ipywidgets<8,>=7.0.0->keplergl) (3.0.39)\n",
      "Requirement already satisfied: pygments>=2.4.0 in c:\\users\\td\\appdata\\roaming\\python\\python311\\site-packages (from ipython>=4.0.0->ipywidgets<8,>=7.0.0->keplergl) (2.15.1)\n",
      "Requirement already satisfied: stack-data in c:\\users\\td\\appdata\\roaming\\python\\python311\\site-packages (from ipython>=4.0.0->ipywidgets<8,>=7.0.0->keplergl) (0.6.2)\n",
      "Requirement already satisfied: colorama in c:\\users\\td\\appdata\\roaming\\python\\python311\\site-packages (from ipython>=4.0.0->ipywidgets<8,>=7.0.0->keplergl) (0.4.6)\n",
      "Requirement already satisfied: notebook>=4.4.1 in c:\\users\\td\\anaconda3\\lib\\site-packages (from widgetsnbextension~=3.6.5->ipywidgets<8,>=7.0.0->keplergl) (6.5.4)\n",
      "Requirement already satisfied: parso<0.9.0,>=0.8.3 in c:\\users\\td\\appdata\\roaming\\python\\python311\\site-packages (from jedi>=0.16->ipython>=4.0.0->ipywidgets<8,>=7.0.0->keplergl) (0.8.3)\n",
      "Requirement already satisfied: jinja2 in c:\\users\\td\\appdata\\roaming\\python\\python311\\site-packages (from notebook>=4.4.1->widgetsnbextension~=3.6.5->ipywidgets<8,>=7.0.0->keplergl) (3.1.2)\n",
      "Requirement already satisfied: tornado>=6.1 in c:\\users\\td\\appdata\\roaming\\python\\python311\\site-packages (from notebook>=4.4.1->widgetsnbextension~=3.6.5->ipywidgets<8,>=7.0.0->keplergl) (6.3.2)\n",
      "Requirement already satisfied: pyzmq>=17 in c:\\users\\td\\appdata\\roaming\\python\\python311\\site-packages (from notebook>=4.4.1->widgetsnbextension~=3.6.5->ipywidgets<8,>=7.0.0->keplergl) (25.1.0)\n",
      "Requirement already satisfied: argon2-cffi in c:\\users\\td\\anaconda3\\lib\\site-packages (from notebook>=4.4.1->widgetsnbextension~=3.6.5->ipywidgets<8,>=7.0.0->keplergl) (21.3.0)\n",
      "Requirement already satisfied: jupyter-core>=4.6.1 in c:\\users\\td\\appdata\\roaming\\python\\python311\\site-packages (from notebook>=4.4.1->widgetsnbextension~=3.6.5->ipywidgets<8,>=7.0.0->keplergl) (5.3.1)\n",
      "Requirement already satisfied: jupyter-client>=5.3.4 in c:\\users\\td\\appdata\\roaming\\python\\python311\\site-packages (from notebook>=4.4.1->widgetsnbextension~=3.6.5->ipywidgets<8,>=7.0.0->keplergl) (8.3.0)\n",
      "Requirement already satisfied: nbformat in c:\\users\\td\\anaconda3\\lib\\site-packages (from notebook>=4.4.1->widgetsnbextension~=3.6.5->ipywidgets<8,>=7.0.0->keplergl) (5.7.0)\n",
      "Requirement already satisfied: nbconvert>=5 in c:\\users\\td\\anaconda3\\lib\\site-packages (from notebook>=4.4.1->widgetsnbextension~=3.6.5->ipywidgets<8,>=7.0.0->keplergl) (6.5.4)\n",
      "Requirement already satisfied: nest-asyncio>=1.5 in c:\\users\\td\\appdata\\roaming\\python\\python311\\site-packages (from notebook>=4.4.1->widgetsnbextension~=3.6.5->ipywidgets<8,>=7.0.0->keplergl) (1.5.7)\n",
      "Requirement already satisfied: ipykernel in c:\\users\\td\\appdata\\roaming\\python\\python311\\site-packages (from notebook>=4.4.1->widgetsnbextension~=3.6.5->ipywidgets<8,>=7.0.0->keplergl) (6.25.0)\n",
      "Requirement already satisfied: Send2Trash>=1.8.0 in c:\\users\\td\\appdata\\roaming\\python\\python311\\site-packages (from notebook>=4.4.1->widgetsnbextension~=3.6.5->ipywidgets<8,>=7.0.0->keplergl) (1.8.2)\n",
      "Requirement already satisfied: terminado>=0.8.3 in c:\\users\\td\\anaconda3\\lib\\site-packages (from notebook>=4.4.1->widgetsnbextension~=3.6.5->ipywidgets<8,>=7.0.0->keplergl) (0.17.1)\n",
      "Requirement already satisfied: prometheus-client in c:\\users\\td\\anaconda3\\lib\\site-packages (from notebook>=4.4.1->widgetsnbextension~=3.6.5->ipywidgets<8,>=7.0.0->keplergl) (0.14.1)\n",
      "Requirement already satisfied: nbclassic>=0.4.7 in c:\\users\\td\\anaconda3\\lib\\site-packages (from notebook>=4.4.1->widgetsnbextension~=3.6.5->ipywidgets<8,>=7.0.0->keplergl) (0.5.5)\n",
      "Requirement already satisfied: wcwidth in c:\\users\\td\\appdata\\roaming\\python\\python311\\site-packages (from prompt-toolkit!=3.0.37,<3.1.0,>=3.0.30->ipython>=4.0.0->ipywidgets<8,>=7.0.0->keplergl) (0.2.6)\n",
      "Requirement already satisfied: executing>=1.2.0 in c:\\users\\td\\appdata\\roaming\\python\\python311\\site-packages (from stack-data->ipython>=4.0.0->ipywidgets<8,>=7.0.0->keplergl) (1.2.0)\n",
      "Requirement already satisfied: asttokens>=2.1.0 in c:\\users\\td\\appdata\\roaming\\python\\python311\\site-packages (from stack-data->ipython>=4.0.0->ipywidgets<8,>=7.0.0->keplergl) (2.2.1)\n",
      "Requirement already satisfied: pure-eval in c:\\users\\td\\appdata\\roaming\\python\\python311\\site-packages (from stack-data->ipython>=4.0.0->ipywidgets<8,>=7.0.0->keplergl) (0.2.2)\n",
      "Requirement already satisfied: platformdirs>=2.5 in c:\\users\\td\\appdata\\roaming\\python\\python311\\site-packages (from jupyter-core>=4.6.1->notebook>=4.4.1->widgetsnbextension~=3.6.5->ipywidgets<8,>=7.0.0->keplergl) (3.10.0)\n",
      "Requirement already satisfied: pywin32>=300 in c:\\users\\td\\appdata\\roaming\\python\\python311\\site-packages (from jupyter-core>=4.6.1->notebook>=4.4.1->widgetsnbextension~=3.6.5->ipywidgets<8,>=7.0.0->keplergl) (305)\n",
      "Requirement already satisfied: jupyter-server>=1.8 in c:\\users\\td\\anaconda3\\lib\\site-packages (from nbclassic>=0.4.7->notebook>=4.4.1->widgetsnbextension~=3.6.5->ipywidgets<8,>=7.0.0->keplergl) (2.5.0)\n",
      "Requirement already satisfied: notebook-shim>=0.1.0 in c:\\users\\td\\anaconda3\\lib\\site-packages (from nbclassic>=0.4.7->notebook>=4.4.1->widgetsnbextension~=3.6.5->ipywidgets<8,>=7.0.0->keplergl) (0.2.2)\n",
      "Requirement already satisfied: lxml in c:\\users\\td\\anaconda3\\lib\\site-packages (from nbconvert>=5->notebook>=4.4.1->widgetsnbextension~=3.6.5->ipywidgets<8,>=7.0.0->keplergl) (4.9.2)\n",
      "Requirement already satisfied: beautifulsoup4 in c:\\users\\td\\appdata\\roaming\\python\\python311\\site-packages (from nbconvert>=5->notebook>=4.4.1->widgetsnbextension~=3.6.5->ipywidgets<8,>=7.0.0->keplergl) (4.11.2)\n",
      "Requirement already satisfied: bleach in c:\\users\\td\\anaconda3\\lib\\site-packages (from nbconvert>=5->notebook>=4.4.1->widgetsnbextension~=3.6.5->ipywidgets<8,>=7.0.0->keplergl) (4.1.0)\n",
      "Requirement already satisfied: defusedxml in c:\\users\\td\\anaconda3\\lib\\site-packages (from nbconvert>=5->notebook>=4.4.1->widgetsnbextension~=3.6.5->ipywidgets<8,>=7.0.0->keplergl) (0.7.1)\n",
      "Requirement already satisfied: entrypoints>=0.2.2 in c:\\users\\td\\anaconda3\\lib\\site-packages (from nbconvert>=5->notebook>=4.4.1->widgetsnbextension~=3.6.5->ipywidgets<8,>=7.0.0->keplergl) (0.4)\n",
      "Requirement already satisfied: jupyterlab-pygments in c:\\users\\td\\anaconda3\\lib\\site-packages (from nbconvert>=5->notebook>=4.4.1->widgetsnbextension~=3.6.5->ipywidgets<8,>=7.0.0->keplergl) (0.1.2)\n",
      "Requirement already satisfied: MarkupSafe>=2.0 in c:\\users\\td\\appdata\\roaming\\python\\python311\\site-packages (from nbconvert>=5->notebook>=4.4.1->widgetsnbextension~=3.6.5->ipywidgets<8,>=7.0.0->keplergl) (2.1.2)\n",
      "Requirement already satisfied: mistune<2,>=0.8.1 in c:\\users\\td\\anaconda3\\lib\\site-packages (from nbconvert>=5->notebook>=4.4.1->widgetsnbextension~=3.6.5->ipywidgets<8,>=7.0.0->keplergl) (0.8.4)\n",
      "Requirement already satisfied: nbclient>=0.5.0 in c:\\users\\td\\anaconda3\\lib\\site-packages (from nbconvert>=5->notebook>=4.4.1->widgetsnbextension~=3.6.5->ipywidgets<8,>=7.0.0->keplergl) (0.5.13)\n",
      "Requirement already satisfied: pandocfilters>=1.4.1 in c:\\users\\td\\anaconda3\\lib\\site-packages (from nbconvert>=5->notebook>=4.4.1->widgetsnbextension~=3.6.5->ipywidgets<8,>=7.0.0->keplergl) (1.5.0)\n",
      "Requirement already satisfied: tinycss2 in c:\\users\\td\\appdata\\roaming\\python\\python311\\site-packages (from nbconvert>=5->notebook>=4.4.1->widgetsnbextension~=3.6.5->ipywidgets<8,>=7.0.0->keplergl) (1.2.1)\n",
      "Requirement already satisfied: fastjsonschema in c:\\users\\td\\appdata\\roaming\\python\\python311\\site-packages (from nbformat->notebook>=4.4.1->widgetsnbextension~=3.6.5->ipywidgets<8,>=7.0.0->keplergl) (2.18.0)\n",
      "Requirement already satisfied: jsonschema>=2.6 in c:\\users\\td\\anaconda3\\lib\\site-packages (from nbformat->notebook>=4.4.1->widgetsnbextension~=3.6.5->ipywidgets<8,>=7.0.0->keplergl) (4.17.3)\n",
      "Requirement already satisfied: pywinpty>=1.1.0 in c:\\users\\td\\appdata\\roaming\\python\\python311\\site-packages (from terminado>=0.8.3->notebook>=4.4.1->widgetsnbextension~=3.6.5->ipywidgets<8,>=7.0.0->keplergl) (2.0.11)\n",
      "Requirement already satisfied: argon2-cffi-bindings in c:\\users\\td\\anaconda3\\lib\\site-packages (from argon2-cffi->notebook>=4.4.1->widgetsnbextension~=3.6.5->ipywidgets<8,>=7.0.0->keplergl) (21.2.0)\n",
      "Requirement already satisfied: debugpy>=1.6.5 in c:\\users\\td\\appdata\\roaming\\python\\python311\\site-packages (from ipykernel->notebook>=4.4.1->widgetsnbextension~=3.6.5->ipywidgets<8,>=7.0.0->keplergl) (1.6.8)\n",
      "Requirement already satisfied: psutil in c:\\users\\td\\appdata\\roaming\\python\\python311\\site-packages (from ipykernel->notebook>=4.4.1->widgetsnbextension~=3.6.5->ipywidgets<8,>=7.0.0->keplergl) (5.9.5)\n",
      "Requirement already satisfied: pyrsistent!=0.17.0,!=0.17.1,!=0.17.2,>=0.14.0 in c:\\users\\td\\anaconda3\\lib\\site-packages (from jsonschema>=2.6->nbformat->notebook>=4.4.1->widgetsnbextension~=3.6.5->ipywidgets<8,>=7.0.0->keplergl) (0.18.0)\n",
      "Requirement already satisfied: anyio>=3.1.0 in c:\\users\\td\\anaconda3\\lib\\site-packages (from jupyter-server>=1.8->nbclassic>=0.4.7->notebook>=4.4.1->widgetsnbextension~=3.6.5->ipywidgets<8,>=7.0.0->keplergl) (3.5.0)\n",
      "Requirement already satisfied: jupyter-events>=0.4.0 in c:\\users\\td\\anaconda3\\lib\\site-packages (from jupyter-server>=1.8->nbclassic>=0.4.7->notebook>=4.4.1->widgetsnbextension~=3.6.5->ipywidgets<8,>=7.0.0->keplergl) (0.6.3)\n",
      "Requirement already satisfied: jupyter-server-terminals in c:\\users\\td\\anaconda3\\lib\\site-packages (from jupyter-server>=1.8->nbclassic>=0.4.7->notebook>=4.4.1->widgetsnbextension~=3.6.5->ipywidgets<8,>=7.0.0->keplergl) (0.4.4)\n",
      "Requirement already satisfied: websocket-client in c:\\users\\td\\appdata\\roaming\\python\\python311\\site-packages (from jupyter-server>=1.8->nbclassic>=0.4.7->notebook>=4.4.1->widgetsnbextension~=3.6.5->ipywidgets<8,>=7.0.0->keplergl) (1.6.1)\n",
      "Requirement already satisfied: cffi>=1.0.1 in c:\\users\\td\\anaconda3\\lib\\site-packages (from argon2-cffi-bindings->argon2-cffi->notebook>=4.4.1->widgetsnbextension~=3.6.5->ipywidgets<8,>=7.0.0->keplergl) (1.15.1)\n",
      "Requirement already satisfied: soupsieve>1.2 in c:\\users\\td\\appdata\\roaming\\python\\python311\\site-packages (from beautifulsoup4->nbconvert>=5->notebook>=4.4.1->widgetsnbextension~=3.6.5->ipywidgets<8,>=7.0.0->keplergl) (2.4)\n",
      "Requirement already satisfied: webencodings in c:\\users\\td\\appdata\\roaming\\python\\python311\\site-packages (from bleach->nbconvert>=5->notebook>=4.4.1->widgetsnbextension~=3.6.5->ipywidgets<8,>=7.0.0->keplergl) (0.5.1)\n",
      "Requirement already satisfied: idna>=2.8 in c:\\users\\td\\appdata\\roaming\\python\\python311\\site-packages (from anyio>=3.1.0->jupyter-server>=1.8->nbclassic>=0.4.7->notebook>=4.4.1->widgetsnbextension~=3.6.5->ipywidgets<8,>=7.0.0->keplergl) (3.4)\n",
      "Requirement already satisfied: sniffio>=1.1 in c:\\users\\td\\appdata\\roaming\\python\\python311\\site-packages (from anyio>=3.1.0->jupyter-server>=1.8->nbclassic>=0.4.7->notebook>=4.4.1->widgetsnbextension~=3.6.5->ipywidgets<8,>=7.0.0->keplergl) (1.3.0)\n",
      "Requirement already satisfied: pycparser in c:\\users\\td\\anaconda3\\lib\\site-packages (from cffi>=1.0.1->argon2-cffi-bindings->argon2-cffi->notebook>=4.4.1->widgetsnbextension~=3.6.5->ipywidgets<8,>=7.0.0->keplergl) (2.21)\n",
      "Requirement already satisfied: python-json-logger>=2.0.4 in c:\\users\\td\\anaconda3\\lib\\site-packages (from jupyter-events>=0.4.0->jupyter-server>=1.8->nbclassic>=0.4.7->notebook>=4.4.1->widgetsnbextension~=3.6.5->ipywidgets<8,>=7.0.0->keplergl) (2.0.7)\n",
      "Requirement already satisfied: pyyaml>=5.3 in c:\\users\\td\\appdata\\roaming\\python\\python311\\site-packages (from jupyter-events>=0.4.0->jupyter-server>=1.8->nbclassic>=0.4.7->notebook>=4.4.1->widgetsnbextension~=3.6.5->ipywidgets<8,>=7.0.0->keplergl) (6.0.1)\n",
      "Requirement already satisfied: rfc3339-validator in c:\\users\\td\\appdata\\roaming\\python\\python311\\site-packages (from jupyter-events>=0.4.0->jupyter-server>=1.8->nbclassic>=0.4.7->notebook>=4.4.1->widgetsnbextension~=3.6.5->ipywidgets<8,>=7.0.0->keplergl) (0.1.4)\n",
      "Requirement already satisfied: rfc3986-validator>=0.1.1 in c:\\users\\td\\appdata\\roaming\\python\\python311\\site-packages (from jupyter-events>=0.4.0->jupyter-server>=1.8->nbclassic>=0.4.7->notebook>=4.4.1->widgetsnbextension~=3.6.5->ipywidgets<8,>=7.0.0->keplergl) (0.1.1)\n",
      "Requirement already satisfied: fqdn in c:\\users\\td\\anaconda3\\lib\\site-packages (from jsonschema>=2.6->nbformat->notebook>=4.4.1->widgetsnbextension~=3.6.5->ipywidgets<8,>=7.0.0->keplergl) (1.5.1)\n",
      "Requirement already satisfied: isoduration in c:\\users\\td\\anaconda3\\lib\\site-packages (from jsonschema>=2.6->nbformat->notebook>=4.4.1->widgetsnbextension~=3.6.5->ipywidgets<8,>=7.0.0->keplergl) (20.11.0)\n",
      "Requirement already satisfied: jsonpointer>1.13 in c:\\users\\td\\anaconda3\\lib\\site-packages (from jsonschema>=2.6->nbformat->notebook>=4.4.1->widgetsnbextension~=3.6.5->ipywidgets<8,>=7.0.0->keplergl) (2.1)\n",
      "Requirement already satisfied: uri-template in c:\\users\\td\\appdata\\roaming\\python\\python311\\site-packages (from jsonschema>=2.6->nbformat->notebook>=4.4.1->widgetsnbextension~=3.6.5->ipywidgets<8,>=7.0.0->keplergl) (1.3.0)\n",
      "Requirement already satisfied: webcolors>=1.11 in c:\\users\\td\\appdata\\roaming\\python\\python311\\site-packages (from jsonschema>=2.6->nbformat->notebook>=4.4.1->widgetsnbextension~=3.6.5->ipywidgets<8,>=7.0.0->keplergl) (1.13)\n",
      "Requirement already satisfied: arrow>=0.15.0 in c:\\users\\td\\anaconda3\\lib\\site-packages (from isoduration->jsonschema>=2.6->nbformat->notebook>=4.4.1->widgetsnbextension~=3.6.5->ipywidgets<8,>=7.0.0->keplergl) (1.2.3)\n"
     ]
    }
   ],
   "source": [
    "!pip install keplergl"
   ]
  },
  {
   "cell_type": "code",
   "execution_count": 30,
   "id": "660a6a0c",
   "metadata": {},
   "outputs": [
    {
     "name": "stdout",
     "output_type": "stream",
     "text": [
      "User Guide: https://docs.kepler.gl/docs/keplergl-jupyter\n"
     ]
    },
    {
     "data": {
      "application/vnd.jupyter.widget-view+json": {
       "model_id": "66f84d5c3b6a4949909f97d840dc181a",
       "version_major": 2,
       "version_minor": 0
      },
      "text/plain": [
       "KeplerGl()"
      ]
     },
     "metadata": {},
     "output_type": "display_data"
    }
   ],
   "source": [
    "from keplergl import KeplerGl\n",
    "map_1 = KeplerGl()\n",
    "map_1"
   ]
  },
  {
   "cell_type": "code",
   "execution_count": 29,
   "id": "504f193b",
   "metadata": {},
   "outputs": [
    {
     "data": {
      "application/vnd.jupyter.widget-view+json": {
       "model_id": "487a7ad60a4449f8a0f30f3c9a274a02",
       "version_major": 2,
       "version_minor": 0
      },
      "text/plain": [
       "KeplerGl(height=900)"
      ]
     },
     "metadata": {},
     "output_type": "display_data"
    }
   ],
   "source": [
    "map_1"
   ]
  },
  {
   "cell_type": "code",
   "execution_count": null,
   "id": "e9d284ef",
   "metadata": {},
   "outputs": [],
   "source": []
  }
 ],
 "metadata": {
  "kernelspec": {
   "display_name": "Python 3 (ipykernel)",
   "language": "python",
   "name": "python3"
  },
  "language_info": {
   "codemirror_mode": {
    "name": "ipython",
    "version": 3
   },
   "file_extension": ".py",
   "mimetype": "text/x-python",
   "name": "python",
   "nbconvert_exporter": "python",
   "pygments_lexer": "ipython3",
   "version": "3.11.3"
  }
 },
 "nbformat": 4,
 "nbformat_minor": 5
}
